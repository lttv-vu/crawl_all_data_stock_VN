{
 "cells": [
  {
   "cell_type": "code",
   "execution_count": null,
   "metadata": {},
   "outputs": [],
   "source": [
    "def crawl_stock_data(stock_symbol, start_date, end_date):\n",
    "    try:\n",
    "        stock_data = yf.download(stock_symbol, start=start_date, end=end_date)\n",
    "        \n",
    "        return stock_data\n",
    "    \n",
    "    except Exception as e:\n",
    "        print(f\"Lấy dữ liệu lỗi {stock_symbol}: {e}\")\n",
    "        return None\n",
    "\n",
    "def main():\n",
    "    # List of stock symbols in the Vietnamese market\n",
    "    vietnam_stock_symbols = tickers\n",
    "    global list_stock\n",
    "\n",
    "    start_date = \"2018-01-01\"\n",
    "    end_date = datetime.today()\n",
    "\n",
    "    # Create an Excel writer\n",
    "    excel_writer = pd.ExcelWriter(\"stock_data_vietnam.xlsx\", engine=\"openpyxl\")\n",
    "    \n",
    "    for symbol in vietnam_stock_symbols:\n",
    "        print(f\"Lấy dữ liệu của mã: {symbol}...\")\n",
    "        stock_data = crawl_stock_data(f\"{symbol}.VN\", start_date, end_date)\n",
    "        \n",
    "        \n",
    "        if stock_data is not None:\n",
    "            # Write the sysmbol complete to Excel\n",
    "            list_stock.append(symbol)\n",
    "            \n",
    "            # Write the data to Excel\n",
    "            stock_data.to_excel(excel_writer, sheet_name=symbol)\n",
    "            \n",
    "    list_stock = pd.DataFrame({\"Symbols\": list_stock}).to_excel(excel_writer, sheet_name=\"List Stock Symbols\", index=False)\n",
    "            \n",
    "    # Save and close the Excel file\n",
    "    excel_writer.save()\n",
    "    excel_writer.close()\n",
    "\n",
    "if __name__ == \"__main__\":\n",
    "    main()"
   ]
  }
 ],
 "metadata": {
  "language_info": {
   "name": "python"
  }
 },
 "nbformat": 4,
 "nbformat_minor": 2
}
